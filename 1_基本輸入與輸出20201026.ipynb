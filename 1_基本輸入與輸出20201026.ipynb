{
  "nbformat": 4,
  "nbformat_minor": 0,
  "metadata": {
    "colab": {
      "name": "1_基本輸入與輸出教學版(解答)20201026.ipynb",
      "provenance": [],
      "collapsed_sections": [],
      "include_colab_link": true
    },
    "kernelspec": {
      "name": "python3",
      "display_name": "Python 3"
    }
  },
  "cells": [
    {
      "cell_type": "markdown",
      "metadata": {
        "id": "view-in-github",
        "colab_type": "text"
      },
      "source": [
        "<a href=\"https://colab.research.google.com/github/pantt2001/python2020/blob/main/1_%E5%9F%BA%E6%9C%AC%E8%BC%B8%E5%85%A5%E8%88%87%E8%BC%B8%E5%87%BA20201026.ipynb\" target=\"_parent\"><img src=\"https://colab.research.google.com/assets/colab-badge.svg\" alt=\"Open In Colab\"/></a>"
      ]
    },
    {
      "cell_type": "markdown",
      "metadata": {
        "id": "0ynE7xesLMzb"
      },
      "source": [
        "# 1.基本輸入與輸出"
      ]
    },
    {
      "cell_type": "markdown",
      "metadata": {
        "id": "oPYfFtYU77FG"
      },
      "source": [
        "基本輸入輸出"
      ]
    },
    {
      "cell_type": "markdown",
      "metadata": {
        "id": "FHYKyUOzCNGB"
      },
      "source": [
        "```\n",
        "標準輸入(stdin)與標準輸出(stdout)\n",
        "   python輸入:input()\n",
        "   python輸出: print()\n",
        "```\n",
        "```\n",
        "自主學習主題\n",
        "   python格式化輸出技術\n",
        "```\n",
        "```\n",
        "進階學習主題:\n",
        "[10]讀取檔案(txt,csv,xslx,json,...)與輸出到檔案\n",
        "[20]資料庫讀取與輸出\n",
        "```\n",
        "# 基礎輸入與輸出(Basic Input and Output)\n",
        "\n",
        "## 基本輸入:讀取使用者的輸入\n",
        "\n",
        "```\n",
        "使用input時，會從標準輸入(stdin)中讀取輸入資料\n",
        "這些資料是string字串型態{重要}\n",
        "stdin==Standard Input\n",
        "```"
      ]
    },
    {
      "cell_type": "markdown",
      "metadata": {
        "id": "qE6a1xH9C98b"
      },
      "source": [
        "\n",
        "執行底下程式看看:\n",
        "```\n",
        "# -*- coding: utf-8 -*-\n",
        "x = input('Enter your name:')\n",
        "print('Hello, ' + x)\n",
        "\n",
        "a = input(\"請輸入：\")\n",
        "a\n",
        "```\n"
      ]
    },
    {
      "cell_type": "code",
      "metadata": {
        "id": "zNGkWgJx-R2F",
        "outputId": "43f92357-c06b-44d7-95ba-99159701e2ca",
        "colab": {
          "base_uri": "https://localhost:8080/",
          "height": 86
        }
      },
      "source": [
        "x = input('Enter your name:')\n",
        "print('Hello, ' + x)\n",
        "a = input(\"請輸入：\")\n",
        "a"
      ],
      "execution_count": null,
      "outputs": [
        {
          "output_type": "stream",
          "text": [
            "Enter your name:得聖\n",
            "Hello, 得聖\n",
            "請輸入：100\n"
          ],
          "name": "stdout"
        },
        {
          "output_type": "execute_result",
          "data": {
            "application/vnd.google.colaboratory.intrinsic+json": {
              "type": "string"
            },
            "text/plain": [
              "'100'"
            ]
          },
          "metadata": {
            "tags": []
          },
          "execution_count": 2
        }
      ]
    },
    {
      "cell_type": "markdown",
      "metadata": {
        "id": "25eyt1w9Diik"
      },
      "source": [
        "###  使用Python內建的type()函數顯示資料型態\n",
        "\n",
        "底下程式執行後結果為何?\n",
        "```\n",
        "type(a)\n",
        "```"
      ]
    },
    {
      "cell_type": "code",
      "metadata": {
        "id": "5RnHQhsHAOCp",
        "outputId": "dca91eea-ace1-44d4-d7e6-d24a6704a392",
        "colab": {
          "base_uri": "https://localhost:8080/",
          "height": 34
        }
      },
      "source": [
        "type(a)"
      ],
      "execution_count": null,
      "outputs": [
        {
          "output_type": "execute_result",
          "data": {
            "text/plain": [
              "str"
            ]
          },
          "metadata": {
            "tags": []
          },
          "execution_count": 3
        }
      ]
    },
    {
      "cell_type": "markdown",
      "metadata": {
        "id": "BMuWFMZqDtKG"
      },
      "source": [
        "### 程式錯誤與更正\n",
        "```\n",
        "小明明正在學習python程式\n",
        "\n",
        "老師出了一題\n",
        "要輸入一個整數分數\n",
        "然後加15後\n",
        "輸出最後答案\n",
        "\n",
        "底下是小明明的python程式\n",
        "請指出底下的錯誤並更正\n",
        "```\n",
        "#### 小明明的python程式 執行後結果為何?\n",
        "```\n",
        "a = input(\"請輸入：\")\n",
        "a\n",
        "\n",
        "b = a+15\n",
        "b\n",
        "```\n"
      ]
    },
    {
      "cell_type": "code",
      "metadata": {
        "id": "ZvJ120KYA-qX",
        "outputId": "33fb7b10-8503-4851-9d3a-fa47bd2213ce",
        "colab": {
          "base_uri": "https://localhost:8080/",
          "height": 233
        }
      },
      "source": [
        "a = input(\"請輸入：\")\n",
        "a\n",
        " \n",
        "b = a+15\n",
        "b"
      ],
      "execution_count": null,
      "outputs": [
        {
          "output_type": "stream",
          "text": [
            "請輸入：100\n"
          ],
          "name": "stdout"
        },
        {
          "output_type": "error",
          "ename": "TypeError",
          "evalue": "ignored",
          "traceback": [
            "\u001b[0;31m---------------------------------------------------------------------------\u001b[0m",
            "\u001b[0;31mTypeError\u001b[0m                                 Traceback (most recent call last)",
            "\u001b[0;32m<ipython-input-4-2b19e84c94b4>\u001b[0m in \u001b[0;36m<module>\u001b[0;34m()\u001b[0m\n\u001b[1;32m      2\u001b[0m \u001b[0ma\u001b[0m\u001b[0;34m\u001b[0m\u001b[0;34m\u001b[0m\u001b[0m\n\u001b[1;32m      3\u001b[0m \u001b[0;34m\u001b[0m\u001b[0m\n\u001b[0;32m----> 4\u001b[0;31m \u001b[0mb\u001b[0m \u001b[0;34m=\u001b[0m \u001b[0ma\u001b[0m\u001b[0;34m+\u001b[0m\u001b[0;36m15\u001b[0m\u001b[0;34m\u001b[0m\u001b[0;34m\u001b[0m\u001b[0m\n\u001b[0m\u001b[1;32m      5\u001b[0m \u001b[0mb\u001b[0m\u001b[0;34m\u001b[0m\u001b[0;34m\u001b[0m\u001b[0m\n",
            "\u001b[0;31mTypeError\u001b[0m: must be str, not int"
          ]
        }
      ]
    },
    {
      "cell_type": "markdown",
      "metadata": {
        "id": "RIDe5YfG_teI"
      },
      "source": [
        "```\n",
        "TypeError :資料型態(data type)錯誤\n",
        "```"
      ]
    },
    {
      "cell_type": "markdown",
      "metadata": {
        "id": "LAh1-HGmEKMo"
      },
      "source": [
        "#### 更正的 小明明python程式\n",
        "```\n",
        "如何讀取使用者輸入的整數===>使用eval()函數\n",
        "            ===>也可以使用int()函數\n",
        "```\n",
        "底下程式執行後結果為何?\n",
        "```\n",
        "a = eval(input(\"請輸入：\"))\n",
        "a\n",
        "type(a)\n",
        "```"
      ]
    },
    {
      "cell_type": "code",
      "metadata": {
        "id": "b3dtM2UDoHP2",
        "outputId": "4264bc53-639f-4c4b-df0e-9cf4ed113189",
        "colab": {
          "base_uri": "https://localhost:8080/",
          "height": 51
        }
      },
      "source": [
        "a = eval(input(\"請輸入：\"))\n",
        "a\n",
        "type(a)"
      ],
      "execution_count": 3,
      "outputs": [
        {
          "output_type": "stream",
          "text": [
            "請輸入：54\n"
          ],
          "name": "stdout"
        },
        {
          "output_type": "execute_result",
          "data": {
            "text/plain": [
              "int"
            ]
          },
          "metadata": {
            "tags": []
          },
          "execution_count": 3
        }
      ]
    },
    {
      "cell_type": "code",
      "metadata": {
        "id": "8mKzPMTGBGk3",
        "outputId": "15da1885-dfbe-428a-d317-8d550f7f194a",
        "colab": {
          "base_uri": "https://localhost:8080/",
          "height": 51
        }
      },
      "source": [
        "a = eval(input(\"請輸入：\"))\n",
        "a\n",
        "type(a)\n",
        "100\n"
      ],
      "execution_count": 2,
      "outputs": [
        {
          "output_type": "stream",
          "text": [
            "請輸入：55\n"
          ],
          "name": "stdout"
        },
        {
          "output_type": "execute_result",
          "data": {
            "text/plain": [
              "100"
            ]
          },
          "metadata": {
            "tags": []
          },
          "execution_count": 2
        }
      ]
    },
    {
      "cell_type": "markdown",
      "metadata": {
        "id": "lcfO6SimMzIm"
      },
      "source": [
        "寫下你更正的答案:input()輸入值為字串型態"
      ]
    },
    {
      "cell_type": "markdown",
      "metadata": {
        "id": "ojFW3LYnAhM_"
      },
      "source": [
        "#### 超級重要:一次輸入多（兩）個資料\n",
        "\n",
        "底下程式執行後結果為何?\n",
        "```\n",
        "a,b = eval(input(\"請輸入兩個數位：\"))\n",
        "a,b\n",
        "```"
      ]
    },
    {
      "cell_type": "code",
      "metadata": {
        "id": "MqxhqwUSBtG5",
        "outputId": "764b8a79-4723-4fd2-921f-e61c16310e2a",
        "colab": {
          "base_uri": "https://localhost:8080/",
          "height": 51
        }
      },
      "source": [
        "a,b = eval(input(\"請輸入兩個數位：\"))\n",
        "a,b\n",
        "10,20\n",
        "\n",
        "\n"
      ],
      "execution_count": 1,
      "outputs": [
        {
          "output_type": "stream",
          "text": [
            "請輸入兩個數位：50,36\n"
          ],
          "name": "stdout"
        },
        {
          "output_type": "execute_result",
          "data": {
            "text/plain": [
              "(10, 20)"
            ]
          },
          "metadata": {
            "tags": []
          },
          "execution_count": 1
        }
      ]
    }
  ]
}